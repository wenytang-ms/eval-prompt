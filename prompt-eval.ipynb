{
 "cells": [
  {
   "cell_type": "code",
   "execution_count": 1,
   "metadata": {},
   "outputs": [],
   "source": [
    "import os\n",
    "import pathlib\n",
    "from pprint import pprint\n",
    "import json"
   ]
  },
  {
   "cell_type": "code",
   "execution_count": 2,
   "metadata": {},
   "outputs": [
    {
     "name": "stdout",
     "output_type": "stream",
     "text": [
      "FALSE\n"
     ]
    }
   ],
   "source": [
    "from dotenv import load_dotenv\n",
    "load_dotenv()\n",
    "print(os.getenv('RBAC'))"
   ]
  },
  {
   "cell_type": "code",
   "execution_count": 3,
   "metadata": {},
   "outputs": [
    {
     "name": "stdout",
     "output_type": "stream",
     "text": [
      "Blob cstest.cs downloaded to C:\\Users\\wenyutang\\workspace\\eval-prompt\\prompteval\\..\\apisrc\\cstest.cs\n",
      "Blob pet.js downloaded to C:\\Users\\wenyutang\\workspace\\eval-prompt\\prompteval\\..\\apisrc\\pet.js\n",
      "Blob pytest.py downloaded to C:\\Users\\wenyutang\\workspace\\eval-prompt\\prompteval\\..\\apisrc\\pytest.py\n"
     ]
    }
   ],
   "source": [
    "# download spec files from azure storage account\n",
    "from prompteval.downloadSpecFiles import downloadApiSpecFiles\n",
    "api_func_folder = pathlib.Path('./apisrc')\n",
    "downloadApiSpecFiles(\"apisrc\")"
   ]
  },
  {
   "cell_type": "code",
   "execution_count": 3,
   "metadata": {},
   "outputs": [],
   "source": [
    "# generate yml file from prompt file\n",
    "# api function file folder\n",
    "from prompteval.prompteval import get_language_from_extension, generateApiSpec, remove_code_block_format, clean_folder\n",
    "api_func_folder = pathlib.Path('./apisrc')\n",
    "res_folder_path = pathlib.Path('./results')\n",
    "clean_folder(res_folder_path)\n",
    "for api_file in api_func_folder.glob('*'):\n",
    "    with open(api_file, 'r', encoding='utf-8') as f:\n",
    "        api_func = f.read()\n",
    "    file_extension = api_file.suffix[1:]\n",
    "    language = get_language_from_extension(file_extension)\n",
    "    response = generateApiSpec(api_func, language)\n",
    "    filename = f\"{api_file.stem}_response.yml\"\n",
    "    output_file = res_folder_path / filename\n",
    "    with open(output_file, \"w\", encoding=\"utf-8\") as out_file:\n",
    "        out_file.write(remove_code_block_format(response[\"response\"]))"
   ]
  },
  {
   "cell_type": "code",
   "execution_count": null,
   "metadata": {},
   "outputs": [],
   "source": [
    "# spectral analysis for results\n",
    "from prompteval.evaluate import any_spec_res, text_to_json_objects, spectral_analyse\n",
    "ruleset_url = \"https://raw.githubusercontent.com/Azure/APICenter-Analyzer/preview/resources/rulesets/oas.yaml\"\n",
    "res_folder_path = pathlib.Path('./results')\n",
    "unique_results = set()\n",
    "calcs = []\n",
    "for res_file in res_folder_path.glob(\"*\"):\n",
    "    if res_file.suffix == \".yml\":\n",
    "      out_file = os.path.basename(res_file.stem + \"_output.json\")\n",
    "      spectral_analyse(os.path.basename(res_file), ruleset_url, res_folder_path, os.path.basename(out_file))\n",
    "      res = any_spec_res(text_to_json_objects(res_folder_path, out_file))\n",
    "      for item in res:\n",
    "          unique_results.add(item)"
   ]
  },
  {
   "cell_type": "code",
   "execution_count": null,
   "metadata": {},
   "outputs": [],
   "source": [
    "pprint(unique_results)\n",
    "with open(pathlib.Path(res_folder_path, 'output.jsonl'), 'w') as json_file:\n",
    "    for item in unique_results:\n",
    "        # 将每个对象转换回JSON字符串，并写入文件，每个对象占一行\n",
    "        json.dump(item.to_json(), json_file)\n",
    "        json_file.write('\\n')"
   ]
  }
 ],
 "metadata": {
  "kernelspec": {
   "display_name": "evalprompt-mWxdk0de-py3.12",
   "language": "python",
   "name": "python3"
  },
  "language_info": {
   "codemirror_mode": {
    "name": "ipython",
    "version": 3
   },
   "file_extension": ".py",
   "mimetype": "text/x-python",
   "name": "python",
   "nbconvert_exporter": "python",
   "pygments_lexer": "ipython3",
   "version": "3.12.7"
  }
 },
 "nbformat": 4,
 "nbformat_minor": 2
}
