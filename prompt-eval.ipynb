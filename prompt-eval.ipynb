{
 "cells": [
  {
   "cell_type": "code",
   "execution_count": 8,
   "metadata": {},
   "outputs": [],
   "source": [
    "import os\n",
    "import pathlib\n",
    "from pprint import pprint"
   ]
  },
  {
   "cell_type": "code",
   "execution_count": 3,
   "metadata": {},
   "outputs": [],
   "source": [
    "from dotenv import load_dotenv\n",
    "load_dotenv(\".env\")\n",
    "model_config = {\n",
    "    \"azure_endpoint\": os.environ.get(\"AZURE_OPENAI_ENDPOINT\"),\n",
    "    \"api_key\": os.environ.get(\"AZURE_OPENAI_API_KEY\"),\n",
    "    \"azure_deployment\":os.environ.get(\"AZURE_OPENAI_DEPLOYMENT\"),\n",
    "}"
   ]
  },
  {
   "cell_type": "code",
   "execution_count": 2,
   "metadata": {},
   "outputs": [],
   "source": [
    "res_folder_path='./results'\n",
    "if not os.path.exists(res_folder_path):\n",
    "    os.makedirs(res_folder_path)\n",
    "res_file=res_folder_path + '/results.csv'\n",
    "with open(res_file, 'w') as f:\n",
    "    f.write('model, prompt, completion\\n')"
   ]
  },
  {
   "cell_type": "code",
   "execution_count": null,
   "metadata": {},
   "outputs": [],
   "source": [
    "# generate yml file from prompt file\n",
    "# api function file folder\n",
    "from prompteval.prompteval import get_language_from_extension, generateApiSpec, remove_code_block_format\n",
    "api_func_folder = pathlib.Path('./apisrc')\n",
    "res_folder_path = pathlib.Path('./results')\n",
    "for api_file in api_func_folder.glob('*'):\n",
    "    with open(api_file, 'r', encoding='utf-8') as f:\n",
    "        api_func = f.read()\n",
    "    file_extension = api_file.suffix[1:]\n",
    "    language = get_language_from_extension(file_extension)\n",
    "    response = generateApiSpec(api_func, language)\n",
    "    filename = f\"{api_file.stem}_response.yml\"\n",
    "    output_file = res_folder_path / filename\n",
    "    with open(output_file, \"w\", encoding=\"utf-8\") as out_file:\n",
    "        out_file.write(remove_code_block_format(response[\"response\"]))"
   ]
  },
  {
   "cell_type": "code",
   "execution_count": null,
   "metadata": {},
   "outputs": [],
   "source": [
    "# spectral analysis for results\n",
    "import json\n",
    "from prompteval.analyse import any_spec_res, text_to_json_objects, spectral_analyse\n",
    "ruleset_url = \"https://raw.githubusercontent.com/Azure/APICenter-Analyzer/preview/resources/rulesets/oas.yaml\"\n",
    "res_folder_path = pathlib.Path('./results')\n",
    "results = []\n",
    "calcs = []\n",
    "for res_file in res_folder_path.glob(\"*\"):\n",
    "    if res_file.suffix == \".yml\":\n",
    "      out_file = os.path.basename(res_file.stem + \"_output.json\")\n",
    "      spectral_analyse(os.path.basename(res_file), ruleset_url, res_folder_path, os.path.basename(out_file))\n",
    "      res, calc = any_spec_res(text_to_json_objects(res_folder_path, out_file))\n",
    "      results.append(res)\n",
    "      calcs.append(calc)\n",
    "\n",
    "with open(pathlib.Path(res_folder_path, 'output.jsonl'), 'w') as jsonl_file:\n",
    "# 遍历数据中的每个对象\n",
    "    for item in calcs:\n",
    "    # 将每个对象转换回JSON字符串，并写入文件，每个对象占一行\n",
    "      jsonl_file.write(json.dumps(item) + '\\n')\n"
   ]
  },
  {
   "cell_type": "code",
   "execution_count": 16,
   "metadata": {},
   "outputs": [
    {
     "name": "stdout",
     "output_type": "stream",
     "text": [
      "[[{'code': 'info-contact',\n",
      "   'message': 'Info object must have \"contact\" object.',\n",
      "   'severity': 1},\n",
      "  {'code': 'operation-description',\n",
      "   'message': 'Operation \"description\" must be present and non-empty string.',\n",
      "   'severity': 1},\n",
      "  {'code': 'operation-tag-defined',\n",
      "   'message': 'Operation tags must be defined in global tags.',\n",
      "   'severity': 1}],\n",
      " [{'code': 'info-contact',\n",
      "   'message': 'Info object must have \"contact\" object.',\n",
      "   'severity': 1},\n",
      "  {'code': 'operation-operationId',\n",
      "   'message': 'Operation must have \"operationId\".',\n",
      "   'severity': 1},\n",
      "  {'code': 'operation-tags',\n",
      "   'message': 'Operation must have non-empty \"tags\" array.',\n",
      "   'severity': 1}],\n",
      " [{'code': 'oas3-api-servers',\n",
      "   'message': 'OpenAPI \"servers\" must be present and non-empty array.',\n",
      "   'severity': 1},\n",
      "  {'code': 'info-contact',\n",
      "   'message': 'Info object must have \"contact\" object.',\n",
      "   'severity': 1},\n",
      "  {'code': 'info-description',\n",
      "   'message': 'Info \"description\" must be present and non-empty string.',\n",
      "   'severity': 1},\n",
      "  {'code': 'operation-description',\n",
      "   'message': 'Operation \"description\" must be present and non-empty string.',\n",
      "   'severity': 1},\n",
      "  {'code': 'operation-tags',\n",
      "   'message': 'Operation must have non-empty \"tags\" array.',\n",
      "   'severity': 1}]]\n"
     ]
    }
   ],
   "source": [
    "pprint(results)"
   ]
  }
 ],
 "metadata": {
  "kernelspec": {
   "display_name": "prompt",
   "language": "python",
   "name": "python3"
  },
  "language_info": {
   "codemirror_mode": {
    "name": "ipython",
    "version": 3
   },
   "file_extension": ".py",
   "mimetype": "text/x-python",
   "name": "python",
   "nbconvert_exporter": "python",
   "pygments_lexer": "ipython3",
   "version": "3.11.11"
  }
 },
 "nbformat": 4,
 "nbformat_minor": 2
}
