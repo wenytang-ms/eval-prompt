{
 "cells": [
  {
   "cell_type": "code",
   "execution_count": 1,
   "metadata": {},
   "outputs": [],
   "source": [
    "import pandas as pd\n",
    "import os\n",
    "\n",
    "from pprint import pprint\n",
    "from azure.ai.evaluation import evaluate\n",
    "from azure.ai.evaluation import SimilarityEvaluator, F1ScoreEvaluator, BleuScoreEvaluator, GleuScoreEvaluator, MeteorScoreEvaluator"
   ]
  },
  {
   "cell_type": "code",
   "execution_count": 2,
   "metadata": {},
   "outputs": [],
   "source": [
    "from dotenv import load_dotenv\n",
    "load_dotenv(\".env\")\n",
    "model_config = {\n",
    "    \"azure_endpoint\": os.environ.get(\"AZURE_OPENAI_ENDPOINT\"),\n",
    "    \"api_key\": os.environ.get(\"AZURE_OPENAI_API_KEY\"),\n",
    "    \"azure_deployment\":os.environ.get(\"AZURE_OPENAI_DEPLOYMENT\"),\n",
    "}"
   ]
  },
  {
   "cell_type": "code",
   "execution_count": 3,
   "metadata": {},
   "outputs": [],
   "source": [
    "import evalprompt.generateApiSpec as generateApiSpec\n",
    "import os\n",
    "current_folder = globals()['_dh'][0]\n",
    "# Generate output from the test dataset, the jsonl file under this output will be used as the evaluation dataset for the prompt\n",
    "query='Please be professional, and use below infomation to generate an OpenAPI specification documentation with YAML format:'\n",
    "api_folder = os.path.join(current_folder, \"./apisrc\")\n",
    "apispec_dir = os.path.join(current_folder, \"./apispec\")\n",
    "output_dir = os.path.join(current_folder, \"./output\")\n",
    "generateApiSpec.generateOutputData(query, api_folder, apispec_dir, output_dir)"
   ]
  },
  {
   "cell_type": "code",
   "execution_count": null,
   "metadata": {},
   "outputs": [],
   "source": [
    "import random\n",
    "randomNum = random.randint(1111, 9999)\n",
    "similarity_evaluator = SimilarityEvaluator(model_config)\n",
    "data_path = \"./output/output.jsonl\"\n",
    "results = evaluate(\n",
    "    evaluation_name=\"Eval-Run-\" + str(randomNum),\n",
    "    data=data_path,\n",
    "    evaluators={\n",
    "        \"relevance\": similarity_evaluator,\n",
    "    },\n",
    "    evaluator_config={\n",
    "        \"relevance\": {\n",
    "            \"ground_truth\":\"${data.ground_truth}\",\n",
    "            \"response\":\"${data.response}\",\n",
    "            \"query\":\"${data.context}\",\n",
    "        }\n",
    "    }\n",
    ")"
   ]
  },
  {
   "cell_type": "code",
   "execution_count": null,
   "metadata": {},
   "outputs": [],
   "source": [
    "glue_eval = GleuScoreEvaluator()\n",
    "blue_eval = BleuScoreEvaluator()\n",
    "f1_eval = F1ScoreEvaluator()\n",
    "metreo_eval = MeteorScoreEvaluator()\n",
    "data_path = \"./output/output.jsonl\"\n",
    "calc_results = evaluate(\n",
    "    data=data_path,\n",
    "    evaluators = {\n",
    "        \"glue\": glue_eval,\n",
    "        'blue': blue_eval,\n",
    "        'f1': f1_eval,\n",
    "        'metreo': metreo_eval\n",
    "    },\n",
    "    evaluator_config={\n",
    "        \"glue\": {\n",
    "            \"ground_truth\":\"${data.ground_truth}\",\n",
    "            \"response\":\"${data.response}\",\n",
    "            \"query\":\"${data.query}\",\n",
    "        },\n",
    "        \"blue\": {\n",
    "            \"ground_truth\":\"${data.ground_truth}\",\n",
    "            \"response\":\"${data.response}\",\n",
    "            \"query\":\"${data.query}\",\n",
    "        },\n",
    "        \"f1\": {\n",
    "            \"ground_truth\":\"${data.ground_truth}\",\n",
    "            \"response\":\"${data.response}\",\n",
    "            \"query\":\"${data.query}\",\n",
    "        },\n",
    "        \"metreo\": {\n",
    "            \"ground_truth\":\"${data.ground_truth}\",\n",
    "            \"response\":\"${data.response}\",\n",
    "            \"query\":\"${data.query}\",\n",
    "        }\n",
    "    }\n",
    ")"
   ]
  },
  {
   "cell_type": "code",
   "execution_count": 28,
   "metadata": {},
   "outputs": [],
   "source": [
    "pprint(results)"
   ]
  },
  {
   "cell_type": "code",
   "execution_count": null,
   "metadata": {},
   "outputs": [],
   "source": [
    "pd.DataFrame(results[\"rows\"])"
   ]
  },
  {
   "cell_type": "code",
   "execution_count": null,
   "metadata": {},
   "outputs": [],
   "source": [
    "pprint(calc_results)"
   ]
  },
  {
   "cell_type": "code",
   "execution_count": 6,
   "metadata": {},
   "outputs": [
    {
     "data": {
      "text/html": [
       "<div>\n",
       "<style scoped>\n",
       "    .dataframe tbody tr th:only-of-type {\n",
       "        vertical-align: middle;\n",
       "    }\n",
       "\n",
       "    .dataframe tbody tr th {\n",
       "        vertical-align: top;\n",
       "    }\n",
       "\n",
       "    .dataframe thead th {\n",
       "        text-align: right;\n",
       "    }\n",
       "</style>\n",
       "<table border=\"1\" class=\"dataframe\">\n",
       "  <thead>\n",
       "    <tr style=\"text-align: right;\">\n",
       "      <th></th>\n",
       "      <th>inputs.response</th>\n",
       "      <th>inputs.context</th>\n",
       "      <th>inputs.ground_truth</th>\n",
       "      <th>outputs.glue.gleu_score</th>\n",
       "      <th>outputs.blue.bleu_score</th>\n",
       "      <th>outputs.f1.f1_score</th>\n",
       "      <th>outputs.metreo.meteor_score</th>\n",
       "    </tr>\n",
       "  </thead>\n",
       "  <tbody>\n",
       "    <tr>\n",
       "      <th>0</th>\n",
       "      <td>```yaml\\nopenapi: 3.0.3\\ninfo:\\n  title: Weath...</td>\n",
       "      <td>[ApiController]\\n[Route(\"[controller]\")]\\npubl...</td>\n",
       "      <td>openapi: 3.0.0\\ninfo:\\n  title: Weather Foreca...</td>\n",
       "      <td>0.648980</td>\n",
       "      <td>0.640381</td>\n",
       "      <td>0.832117</td>\n",
       "      <td>0.632723</td>\n",
       "    </tr>\n",
       "    <tr>\n",
       "      <th>1</th>\n",
       "      <td>```yaml\\nopenapi: 3.0.0\\ninfo:\\n  title: Pets ...</td>\n",
       "      <td>const express = require('express');\\nconst app...</td>\n",
       "      <td>openapi: 3.0.0\\ninfo:\\n  title: Pets API\\n  ve...</td>\n",
       "      <td>0.501836</td>\n",
       "      <td>0.492562</td>\n",
       "      <td>0.745000</td>\n",
       "      <td>0.491764</td>\n",
       "    </tr>\n",
       "    <tr>\n",
       "      <th>2</th>\n",
       "      <td>```yaml\\nopenapi: 3.0.0\\ninfo:\\n  title: Flask...</td>\n",
       "      <td>from flask import Flask, jsonify, request \\nfr...</td>\n",
       "      <td>openapi: 3.0.0\\ninfo:\\n  title: API Specificat...</td>\n",
       "      <td>0.591139</td>\n",
       "      <td>0.578732</td>\n",
       "      <td>0.805825</td>\n",
       "      <td>0.555505</td>\n",
       "    </tr>\n",
       "  </tbody>\n",
       "</table>\n",
       "</div>"
      ],
      "text/plain": [
       "                                     inputs.response  \\\n",
       "0  ```yaml\\nopenapi: 3.0.3\\ninfo:\\n  title: Weath...   \n",
       "1  ```yaml\\nopenapi: 3.0.0\\ninfo:\\n  title: Pets ...   \n",
       "2  ```yaml\\nopenapi: 3.0.0\\ninfo:\\n  title: Flask...   \n",
       "\n",
       "                                      inputs.context  \\\n",
       "0  [ApiController]\\n[Route(\"[controller]\")]\\npubl...   \n",
       "1  const express = require('express');\\nconst app...   \n",
       "2  from flask import Flask, jsonify, request \\nfr...   \n",
       "\n",
       "                                 inputs.ground_truth  outputs.glue.gleu_score  \\\n",
       "0  openapi: 3.0.0\\ninfo:\\n  title: Weather Foreca...                 0.648980   \n",
       "1  openapi: 3.0.0\\ninfo:\\n  title: Pets API\\n  ve...                 0.501836   \n",
       "2  openapi: 3.0.0\\ninfo:\\n  title: API Specificat...                 0.591139   \n",
       "\n",
       "   outputs.blue.bleu_score  outputs.f1.f1_score  outputs.metreo.meteor_score  \n",
       "0                 0.640381             0.832117                     0.632723  \n",
       "1                 0.492562             0.745000                     0.491764  \n",
       "2                 0.578732             0.805825                     0.555505  "
      ]
     },
     "execution_count": 6,
     "metadata": {},
     "output_type": "execute_result"
    }
   ],
   "source": [
    "pd.DataFrame(calc_results[\"rows\"])"
   ]
  }
 ],
 "metadata": {
  "kernelspec": {
   "display_name": "evalprompt-wn0zWWko-py3.12",
   "language": "python",
   "name": "python3"
  },
  "language_info": {
   "codemirror_mode": {
    "name": "ipython",
    "version": 3
   },
   "file_extension": ".py",
   "mimetype": "text/x-python",
   "name": "python",
   "nbconvert_exporter": "python",
   "pygments_lexer": "ipython3",
   "version": "3.12.8"
  }
 },
 "nbformat": 4,
 "nbformat_minor": 2
}
