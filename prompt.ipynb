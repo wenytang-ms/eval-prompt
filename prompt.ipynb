{
 "cells": [
  {
   "cell_type": "code",
   "execution_count": 1,
   "metadata": {},
   "outputs": [],
   "source": [
    "import pandas as pd\n",
    "import os\n",
    "\n",
    "from pprint import pprint\n",
    "from azure.ai.evaluation import evaluate\n",
    "from azure.ai.evaluation import SimilarityEvaluator"
   ]
  },
  {
   "cell_type": "code",
   "execution_count": 2,
   "metadata": {},
   "outputs": [],
   "source": [
    "from dotenv import load_dotenv\n",
    "load_dotenv(\".env\")\n",
    "model_config = {\n",
    "    \"azure_endpoint\": os.environ.get(\"AZURE_OPENAI_ENDPOINT\"),\n",
    "    \"api_key\": os.environ.get(\"AZURE_OPENAI_API_KEY\"),\n",
    "    \"azure_deployment\":os.environ.get(\"AZURE_OPENAI_DEPLOYMENT\"),\n",
    "}"
   ]
  },
  {
   "cell_type": "code",
   "execution_count": null,
   "metadata": {},
   "outputs": [],
   "source": [
    "import evalprompt.generateApiSpec as generateApiSpec\n",
    "import pathlib\n",
    "# Generate output from the test dataset, the jsonl file under this output will be used as the evaluation dataset for the prompt\n",
    "query='Please be professional, and use below infomation to generate an OpenAPI specification documentation with YAML format:'\n",
    "api_folder = pathlib.Path(__file__).parent.resolve() / \"./apisrc\"\n",
    "apispec_dir = pathlib.Path(__file__).parent.resolve() / \"./apispec\"\n",
    "output_dir = pathlib.Path(__file__).parent.resolve() / \"./output\"\n",
    "output_dir.mkdir(exist_ok=True)\n",
    "generateApiSpec.generateOutputData(query, api_folder, apispec_dir, output_dir)"
   ]
  },
  {
   "cell_type": "code",
   "execution_count": null,
   "metadata": {},
   "outputs": [],
   "source": [
    "import random\n",
    "import pathlib\n",
    "randomNum = random.randint(1111, 9999)\n",
    "similarity_evaluator = SimilarityEvaluator(model_config)\n",
    "data_path=pathlib.Path(__file__).parent.resolve() / \"./output/output.jsonl\"\n",
    "results = evaluate(\n",
    "    evaluation_name=\"Eval-Run-\" + str(randomNum),\n",
    "    data=data_path,\n",
    "    evaluators={\n",
    "        \"relevance\": similarity_evaluator,\n",
    "    },\n",
    "    evaluator_config={\n",
    "        \"relevance\": {\n",
    "            \"ground_truth\":\"${data.ground_truth}\",\n",
    "            \"response\":\"${data.response}\",\n",
    "            \"query\":\"${data.query}\",\n",
    "        }\n",
    "    }\n",
    ")"
   ]
  },
  {
   "cell_type": "code",
   "execution_count": null,
   "metadata": {},
   "outputs": [],
   "source": [
    "pprint(results)"
   ]
  },
  {
   "cell_type": "code",
   "execution_count": 6,
   "metadata": {},
   "outputs": [
    {
     "data": {
      "text/html": [
       "<div>\n",
       "<style scoped>\n",
       "    .dataframe tbody tr th:only-of-type {\n",
       "        vertical-align: middle;\n",
       "    }\n",
       "\n",
       "    .dataframe tbody tr th {\n",
       "        vertical-align: top;\n",
       "    }\n",
       "\n",
       "    .dataframe thead th {\n",
       "        text-align: right;\n",
       "    }\n",
       "</style>\n",
       "<table border=\"1\" class=\"dataframe\">\n",
       "  <thead>\n",
       "    <tr style=\"text-align: right;\">\n",
       "      <th></th>\n",
       "      <th>inputs.response</th>\n",
       "      <th>inputs.query</th>\n",
       "      <th>inputs.context</th>\n",
       "      <th>inputs.ground_truth</th>\n",
       "      <th>outputs.relevance.similarity</th>\n",
       "      <th>outputs.relevance.gpt_similarity</th>\n",
       "    </tr>\n",
       "  </thead>\n",
       "  <tbody>\n",
       "    <tr>\n",
       "      <th>0</th>\n",
       "      <td>```yaml\\nopenapi: 3.0.0\\ninfo:\\n  title: Flask...</td>\n",
       "      <td>Please be professional, and use below infomati...</td>\n",
       "      <td>from flask import Flask, jsonify, request \\nfr...</td>\n",
       "      <td>openapi: 3.0.0\\ninfo:\\n  title: API Specificat...</td>\n",
       "      <td>3</td>\n",
       "      <td>3</td>\n",
       "    </tr>\n",
       "    <tr>\n",
       "      <th>1</th>\n",
       "      <td>Here is the OpenAPI specification documentatio...</td>\n",
       "      <td>Please be professional, and use below infomati...</td>\n",
       "      <td>const express = require('express');\\nconst app...</td>\n",
       "      <td>openapi: 3.0.0\\ninfo:\\n  title: Pets API\\n  ve...</td>\n",
       "      <td>3</td>\n",
       "      <td>3</td>\n",
       "    </tr>\n",
       "    <tr>\n",
       "      <th>2</th>\n",
       "      <td>Certainly! Below is the OpenAPI Specification ...</td>\n",
       "      <td>Please be professional, and use below infomati...</td>\n",
       "      <td>[ApiController]\\n[Route(\"[controller]\")]\\npubl...</td>\n",
       "      <td>openapi: 3.0.0\\ninfo:\\n  title: Weather Foreca...</td>\n",
       "      <td>3</td>\n",
       "      <td>3</td>\n",
       "    </tr>\n",
       "  </tbody>\n",
       "</table>\n",
       "</div>"
      ],
      "text/plain": [
       "                                     inputs.response  \\\n",
       "0  ```yaml\\nopenapi: 3.0.0\\ninfo:\\n  title: Flask...   \n",
       "1  Here is the OpenAPI specification documentatio...   \n",
       "2  Certainly! Below is the OpenAPI Specification ...   \n",
       "\n",
       "                                        inputs.query  \\\n",
       "0  Please be professional, and use below infomati...   \n",
       "1  Please be professional, and use below infomati...   \n",
       "2  Please be professional, and use below infomati...   \n",
       "\n",
       "                                      inputs.context  \\\n",
       "0  from flask import Flask, jsonify, request \\nfr...   \n",
       "1  const express = require('express');\\nconst app...   \n",
       "2  [ApiController]\\n[Route(\"[controller]\")]\\npubl...   \n",
       "\n",
       "                                 inputs.ground_truth  \\\n",
       "0  openapi: 3.0.0\\ninfo:\\n  title: API Specificat...   \n",
       "1  openapi: 3.0.0\\ninfo:\\n  title: Pets API\\n  ve...   \n",
       "2  openapi: 3.0.0\\ninfo:\\n  title: Weather Foreca...   \n",
       "\n",
       "   outputs.relevance.similarity  outputs.relevance.gpt_similarity  \n",
       "0                             3                                 3  \n",
       "1                             3                                 3  \n",
       "2                             3                                 3  "
      ]
     },
     "execution_count": 6,
     "metadata": {},
     "output_type": "execute_result"
    }
   ],
   "source": [
    "pd.DataFrame(results[\"rows\"])"
   ]
  }
 ],
 "metadata": {
  "kernelspec": {
   "display_name": "evalprompt-wn0zWWko-py3.12",
   "language": "python",
   "name": "python3"
  },
  "language_info": {
   "codemirror_mode": {
    "name": "ipython",
    "version": 3
   },
   "file_extension": ".py",
   "mimetype": "text/x-python",
   "name": "python",
   "nbconvert_exporter": "python",
   "pygments_lexer": "ipython3",
   "version": "3.12.8"
  }
 },
 "nbformat": 4,
 "nbformat_minor": 2
}
